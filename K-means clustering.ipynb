{
 "cells": [
  {
   "cell_type": "code",
   "execution_count": null,
   "metadata": {},
   "outputs": [],
   "source": [
    "# unsupervised learning algorithm"
   ]
  },
  {
   "cell_type": "code",
   "execution_count": null,
   "metadata": {},
   "outputs": [],
   "source": [
    "import os\n",
    "import numpy\n",
    "import scipy\n",
    "import pandas as pd\n",
    "import pylab as pl\n",
    "import matplotlib\n",
    "from sklearn.cluster import KMeans\n",
    "from sklearn.decomposition import PCA"
   ]
  },
  {
   "cell_type": "code",
   "execution_count": null,
   "metadata": {},
   "outputs": [],
   "source": [
    "path = \"C:/Users/dataset\"  # any path\n",
    "os.chdir(path)\n",
    "os.getcwd"
   ]
  },
  {
   "cell_type": "code",
   "execution_count": null,
   "metadata": {},
   "outputs": [],
   "source": [
    "var_s = pd.read_csv(\"name.csv\")\n",
    "Y = var_s[[\"column_name\"]]\n",
    "X = var_s[[\"column_name\"]]\n",
    "\n",
    "Y_norm = (Y - Y.mean()) / (Y.max()) - (Y.min())\n",
    "X_norm = (X - X.mean()) / (X.max()) - (X.min())"
   ]
  },
  {
   "cell_type": "code",
   "execution_count": null,
   "metadata": {},
   "outputs": [],
   "source": [
    "nc = range(1, 20)\n",
    "kmeans = [KMeans(n_clusters=i) for i in nc]\n",
    "kmeans\n",
    "\n",
    "score = [kmeans[i].fit(Y_norm).score(Y_norm) for i in range(len(kmeans))]\n",
    "score"
   ]
  },
  {
   "cell_type": "code",
   "execution_count": null,
   "metadata": {},
   "outputs": [],
   "source": [
    "pl.plot(nc, score)\n",
    "pl.xlabel(\"Numbers of clusters\")\n",
    "pl.ylabel(\"Score\")\n",
    "pl.title(\"Curve\")\n",
    "pl.show()"
   ]
  },
  {
   "cell_type": "code",
   "execution_count": null,
   "metadata": {},
   "outputs": [],
   "source": [
    "pca = PCA(n_components=1).fit(Y_norm)\n",
    "pca_d = pca.transform(Y_norm)\n",
    "pca_c = pca.transform(X_norm)\n",
    "pca_d\n",
    "pca_c"
   ]
  },
  {
   "cell_type": "code",
   "execution_count": null,
   "metadata": {},
   "outputs": [],
   "source": [
    "kmeans = KMeans(n_clusters=3)\n",
    "kmeansoutput = kmeans.fit(Y_norm)\n",
    "kmeansoutput"
   ]
  },
  {
   "cell_type": "code",
   "execution_count": null,
   "metadata": {},
   "outputs": [],
   "source": [
    "pl.figure(\"3 Cluster K-Means\")\n",
    "pl.scatter(pca_c[:, 0], pca_d[:, 0], c=kmeansoutput.labels_)\n",
    "pl.xlabel(\"Yield\")\n",
    "pl.ylabel(\"Returns\")\n",
    "pl.title(\"3 Cluster K-Means\")\n",
    "pl.show()"
   ]
  },
  {
   "cell_type": "code",
   "execution_count": null,
   "metadata": {},
   "outputs": [],
   "source": [
    "import matplotlib\n",
    "from pylab import *\n",
    "\n",
    "\n",
    "def main():\n",
    "    X = np.linspace(-np.pi, np.pi, 256, endpoint=True)\n",
    "    C,S = np.cos(X), np.sin(X)\n",
    "    plot(X,C)\n",
    "    plot(X,S)\n",
    "    show()"
   ]
  }
 ],
 "metadata": {
  "kernelspec": {
   "display_name": "Python 3",
   "language": "python",
   "name": "python3"
  },
  "language_info": {
   "codemirror_mode": {
    "name": "ipython",
    "version": 3
   },
   "file_extension": ".py",
   "mimetype": "text/x-python",
   "name": "python",
   "nbconvert_exporter": "python",
   "pygments_lexer": "ipython3",
   "version": "3.6.2"
  }
 },
 "nbformat": 4,
 "nbformat_minor": 2
}
